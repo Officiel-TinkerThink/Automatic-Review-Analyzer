{
 "cells": [
  {
   "cell_type": "code",
   "execution_count": 9,
   "metadata": {},
   "outputs": [
    {
     "name": "stdout",
     "output_type": "stream",
     "text": [
      "Error in  0\n",
      "[-1  0  0]\n",
      "Error in  1\n",
      "[-1  1  0]\n",
      "Error in  2\n",
      "[-1  1 -1]\n",
      "number of interation to convergence: 1\n"
     ]
    }
   ],
   "source": [
    "### Perceptron Algorithm without offset\n",
    "import numpy as np\n",
    "# start from 1\n",
    "# X = [[-1, -1], [1,0], [-1, 1.5]]\n",
    "X = [[-1,0,0], [0,1,0], [0, 0, -1]]\n",
    "\n",
    "\n",
    "# start from 2\n",
    "# X = [[1,0], [-1, 1.5], [-1, -1]]\n",
    "# X = [[1,0], [-1, 10], [-1, -1]]\n",
    "\n",
    "X = np.array(X)\n",
    "\n",
    "# start from 1\n",
    "y = [1, 1, 1]\n",
    "\n",
    "# start from 2\n",
    "# y = [-1, 1, 1]\n",
    "\n",
    "y=np.array(y)\n",
    "\n",
    "theta = np.array([0, 0, 0])\n",
    "theta_0 = 0\n",
    "for i in range(10):\n",
    "    error_counter = 0\n",
    "    for j in range(len(X)):\n",
    "        if y[j]*np.dot(X[j], theta) <= 0:\n",
    "            theta = theta + y[j]*X[j]\n",
    "            print(\"Error in \", j)\n",
    "            print(theta)\n",
    "            error_counter += 1\n",
    "    if error_counter == 0:\n",
    "        break\n",
    "\n",
    "print(f\"number of interation to convergence: {i}\")\n"
   ]
  },
  {
   "cell_type": "code",
   "execution_count": 1,
   "metadata": {},
   "outputs": [
    {
     "name": "stdout",
     "output_type": "stream",
     "text": [
      "Error in  1\n",
      "[-2  2]\n",
      "-2\n",
      "Error in  1\n",
      "[-1  1]\n",
      "-1\n",
      "Error in  1\n",
      "[0 0]\n",
      "0\n",
      "Error in  2\n",
      "[-1 -1]\n",
      "-1\n",
      "Error in  0\n",
      "[-2  0]\n",
      "0\n",
      "Error in  1\n",
      "[-1 -1]\n",
      "1\n",
      "number of interation to convergence: 4\n"
     ]
    }
   ],
   "source": [
    "### Perceptron Algorithm with offset\n",
    "import numpy as np\n",
    "# start from 1\n",
    "X = [[-1,1], [1,-1], [1,1], [2,2]]\n",
    "\n",
    "# start from 2\n",
    "# X = [[1,0], [-1, 1.5], [-1, -1]]\n",
    "# X = [[1,0], [-1, 10], [-1, -1]]\n",
    "\n",
    "X = np.array(X)\n",
    "\n",
    "# start from 1\n",
    "y = [1, 1, -1, -1]\n",
    "\n",
    "# start from 2\n",
    "# y = [-1, 1, 1]\n",
    "\n",
    "y=np.array(y)\n",
    "\n",
    "theta = [-3, 3]\n",
    "theta_0 = -3\n",
    "for i in range(10):\n",
    "    error_counter = 0\n",
    "    for j in range(len(X)):\n",
    "        if y[j]*(np.dot(X[j], theta) + theta_0) <= 0:\n",
    "            theta = theta + y[j]*X[j]\n",
    "            theta_0 += y[j]\n",
    "            print(\"Error in \", j)\n",
    "            print(theta)\n",
    "            print(theta_0)\n",
    "            error_counter += 1\n",
    "    if error_counter == 0:\n",
    "        break\n",
    "\n",
    "print(f\"number of interation to convergence: {i}\")"
   ]
  },
  {
   "cell_type": "code",
   "execution_count": null,
   "metadata": {},
   "outputs": [],
   "source": []
  }
 ],
 "metadata": {
  "kernelspec": {
   "display_name": "6.86x",
   "language": "python",
   "name": "python3"
  },
  "language_info": {
   "codemirror_mode": {
    "name": "ipython",
    "version": 3
   },
   "file_extension": ".py",
   "mimetype": "text/x-python",
   "name": "python",
   "nbconvert_exporter": "python",
   "pygments_lexer": "ipython3",
   "version": "3.8.19"
  }
 },
 "nbformat": 4,
 "nbformat_minor": 2
}
